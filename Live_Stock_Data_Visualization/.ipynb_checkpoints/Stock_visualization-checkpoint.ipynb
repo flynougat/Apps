{
 "cells": [
  {
   "cell_type": "code",
   "execution_count": 37,
   "id": "abe61fcc",
   "metadata": {},
   "outputs": [],
   "source": [
    "from pandas_datareader import data\n",
    "import datetime\n",
    "from bokeh.plotting import figure, show, output_file\n",
    "from bokeh.embed import components\n",
    "from bokeh.resources import CDN"
   ]
  },
  {
   "cell_type": "code",
   "execution_count": 38,
   "id": "c3b00bf2",
   "metadata": {},
   "outputs": [],
   "source": [
    "start=datetime.datetime(2020,6,1)\n",
    "end=datetime.datetime(2021,6,18)\n",
    "df=data.DataReader(name=\"AAPL\", data_source=\"yahoo\", start=start, end=end)"
   ]
  },
  {
   "cell_type": "code",
   "execution_count": 39,
   "id": "217fdb72",
   "metadata": {},
   "outputs": [],
   "source": [
    "#method 1\n",
    "#date_gain=df.index[df.Close>df.Open]\n",
    "#date_loss=df.index[df.Close<df.Open]"
   ]
  },
  {
   "cell_type": "code",
   "execution_count": 40,
   "id": "ec67557c",
   "metadata": {},
   "outputs": [],
   "source": [
    "#method 2 add new data column\n",
    "def inc_dec(c,o):\n",
    "    if c>o:\n",
    "        value = \"Increase\"\n",
    "    elif c<o:\n",
    "        value = \"Decrease\"\n",
    "    else:\n",
    "        value = \"Equal\"\n",
    "    return value\n",
    "\n",
    "df[\"Status\"]=[inc_dec(c,o) for c,o in zip(df.Close, df.Open)]\n",
    "\n",
    "df[\"Middle\"]=(df.Close+df.Open)/2\n",
    "df[\"Height\"]=abs(df.Open-df.Close)"
   ]
  },
  {
   "cell_type": "code",
   "execution_count": 44,
   "id": "34b2a3c5",
   "metadata": {},
   "outputs": [],
   "source": [
    "p=figure(x_axis_type='datetime', width=1000,height=300, sizing_mode=\"scale_width\")\n",
    "p.title = \"Candlestick Chart\"\n",
    "p.grid.grid_line_alpha=0.3\n",
    "\n",
    "hours_12=12*60*60*1000\n",
    "\n",
    "#method 1\n",
    "#p.rect(date_gain, (df.Close+df.Open)/2, hours_12, abs(df.Open-df.Close), \n",
    "#       fill_color=\"green\", line_color=\"black\")\n",
    "#p.rect(date_loss, (df.Close+df.Open)/2, hours_12, abs(df.Open-df.Close), \n",
    "#       fill_color=\"red\", line_color=\"black\")\n",
    "\n",
    "#method 2\n",
    "#the order of plotting matters. it will build on top layer of previous\n",
    "p.segment(df.index, df.High, df.index, df.Low)\n",
    "p.rect(df.index[df.Status==\"Increase\"], df.Middle[df.Status==\"Increase\"], hours_12, df.Height[df.Status==\"Increase\"], \n",
    "       fill_color=\"green\", line_color=\"black\")\n",
    "p.rect(df.index[df.Status==\"Decrease\"], df.Middle[df.Status==\"Decrease\"], hours_12, df.Height[df.Status==\"Decrease\"], \n",
    "       fill_color=\"red\", line_color=\"black\")\n",
    "\n",
    "#local output\n",
    "#output_file(\"stock.html\")\n",
    "#show(p)\n",
    "\n",
    "#live web output\n",
    "#get html script from p\n",
    "script1, div1 = components(p)\n",
    "cdn_js = CDN.js_files\n",
    "cdn_css=CDN.css_files"
   ]
  }
 ],
 "metadata": {
  "kernelspec": {
   "display_name": "Python 3",
   "language": "python",
   "name": "python3"
  },
  "language_info": {
   "codemirror_mode": {
    "name": "ipython",
    "version": 3
   },
   "file_extension": ".py",
   "mimetype": "text/x-python",
   "name": "python",
   "nbconvert_exporter": "python",
   "pygments_lexer": "ipython3",
   "version": "3.9.5"
  }
 },
 "nbformat": 4,
 "nbformat_minor": 5
}
